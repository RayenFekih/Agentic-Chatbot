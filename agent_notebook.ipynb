{
 "cells": [
  {
   "cell_type": "code",
   "execution_count": 1,
   "metadata": {},
   "outputs": [],
   "source": [
    "from typing import Annotated\n",
    "import functools\n",
    "import pandas as pd\n",
    "from langchain_community.tools.tavily_search import TavilySearchResults\n",
    "from langchain_core.messages import AIMessage, ToolMessage\n",
    "from langchain_core.tools import tool\n",
    "from langchain_groq import ChatGroq\n",
    "\n",
    "# from langchain_community.chat_models import ChatOllama\n",
    "# from langchain_ollama import ChatOllama\n",
    "# from langchain_openai import ChatOpenAI\n",
    "from langgraph.checkpoint.memory import MemorySaver\n",
    "from langgraph.checkpoint.sqlite import SqliteSaver\n",
    "from langgraph.graph import StateGraph\n",
    "from langgraph.graph.message import AnyMessage, add_messages\n",
    "from langgraph.prebuilt import ToolNode, tools_condition\n",
    "from typing_extensions import TypedDict\n",
    "from langchain_core.messages import HumanMessage\n",
    "from langchain_experimental.agents.agent_toolkits import create_pandas_dataframe_agent"
   ]
  },
  {
   "cell_type": "code",
   "execution_count": 2,
   "metadata": {},
   "outputs": [],
   "source": [
    "class State(TypedDict):\n",
    "    messages: Annotated[list[AnyMessage], add_messages]\n",
    "    ask_human: bool\n",
    "    execute_code: bool\n",
    "\n",
    "\n",
    "@tool\n",
    "def request_assistance():\n",
    "    \"\"\"Escalate the conversation to an expert. Use this if the search query is ambiguous or unclear, prompt the user with a clarifying question to gather specific attributes or details about the product they are searching for.\n",
    "\n",
    "    To use this function, relay the user's 'request' so the expert can provide the right guidance.\n",
    "    \"\"\"\n",
    "    return \"\"\n",
    "\n",
    "@tool\n",
    "def run_python_code():\n",
    "    \"\"\"\n",
    "    Executes Python code on a Pandas DataFrame.\n",
    "\n",
    "    This function should be called when a user requests an operation, transformation, \n",
    "    or analysis on a Pandas DataFrame. Examples include:\n",
    "    - Filtering or transforming data\n",
    "    - Adding, modifying, or removing columns\n",
    "    - Performing statistical analyses or aggregations\n",
    "    - Applying custom Python logic to the DataFrame\n",
    "\n",
    "    The function takes user-provided Python code and a Pandas DataFrame as input, \n",
    "    applies the code to the DataFrame, and returns the modified DataFrame or \n",
    "    the result of the computation.\n",
    "\n",
    "    Usage scenarios:\n",
    "    - \"Filter rows where column 'A' is greater than 10.\"\n",
    "    - \"Add a new column 'B' as the square of column 'A'.\"\n",
    "    - \"Calculate the mean of column 'C' grouped by column 'D'.\"\n",
    "\n",
    "    Note: Ensure the code provided is safe and validated before execution.\n",
    "    \"\"\"\n",
    "    return \"\"\n",
    "\n",
    "\n",
    "\n",
    "def chatbot(state: State):\n",
    "    response = llm_with_tools.invoke(state[\"messages\"])\n",
    "    ask_human = False\n",
    "    execute_code = False\n",
    "    if response.tool_calls and response.tool_calls[0][\"name\"] == \"request_assistance\":\n",
    "        ask_human = True\n",
    "        \n",
    "    if response.tool_calls and response.tool_calls[0][\"name\"] == \"run_python_code\":\n",
    "        execute_code = True\n",
    "        \n",
    "    return {\"messages\": [response], \"ask_human\": ask_human, \"execute_code\": execute_code}\n",
    "\n",
    "\n",
    "def create_response(response: str, ai_message: AIMessage):\n",
    "    return ToolMessage(\n",
    "        content=response,\n",
    "        tool_call_id=ai_message.tool_calls[0][\"id\"],\n",
    "    )\n",
    "\n",
    "\n",
    "def human_node(state: State):\n",
    "    new_messages = []\n",
    "    if not isinstance(state[\"messages\"][-1], ToolMessage):\n",
    "        new_messages.append(\n",
    "            create_response(\"No response from human.\", state[\"messages\"][-1])\n",
    "        )\n",
    "    return {\n",
    "        \"messages\": new_messages,\n",
    "        \"ask_human\": False,\n",
    "        \"execute_code\": False\n",
    "    }\n",
    "\n",
    "def agent_node(state, agent, name):\n",
    "    result = agent.invoke(state)\n",
    "    return {\"messages\": [HumanMessage(content=result[\"output\"], name=name)], \"ask_human\": False, \"execute_code\": False}\n",
    "\n",
    "\n",
    "def select_next_node(state: State):\n",
    "    if state[\"ask_human\"]:\n",
    "        return \"human\"\n",
    "    if state[\"execute_code\"]:\n",
    "        return \"PythonExecutor\"\n",
    "    return tools_condition(state)"
   ]
  },
  {
   "cell_type": "code",
   "execution_count": 3,
   "metadata": {},
   "outputs": [],
   "source": [
    "tavily_search = TavilySearchResults(max_results=2)\n",
    "\n",
    "# llm = ChatOpenAI()\n",
    "# llm = ChatOllama(model=\"llama3.1:8b\")\n",
    "model_name = \"llama-3.1-70b-versatile\"\n",
    "llm = ChatGroq(\n",
    "    model_name=model_name\n",
    ")\n",
    "llm_with_tools = llm.bind_tools([tavily_search, request_assistance, run_python_code])"
   ]
  },
  {
   "cell_type": "code",
   "execution_count": 4,
   "metadata": {},
   "outputs": [],
   "source": [
    "data = pd.read_csv(\"data.csv\", index_col=0)\n",
    "model_name = \"llama-3.1-70b-versatile\"\n",
    "llm_python_executor = ChatGroq(\n",
    "    model_name=model_name\n",
    ")\n",
    "\n",
    "python_executor_agent = create_pandas_dataframe_agent(llm_python_executor, data, verbose=True, allow_dangerous_code=True)\n",
    "python_executor_node = functools.partial(agent_node, agent=python_executor_agent, name=\"PythonExecutor\")"
   ]
  },
  {
   "cell_type": "code",
   "execution_count": 5,
   "metadata": {},
   "outputs": [],
   "source": [
    "graph_builder = StateGraph(State)\n",
    "\n",
    "graph_builder.add_node(\"chatbot\", chatbot)\n",
    "graph_builder.add_node(\"tools\", ToolNode(tools=[tavily_search]))\n",
    "graph_builder.add_node(\"human\", human_node)\n",
    "graph_builder.add_node(\"PythonExecutor\", python_executor_node)\n",
    "\n",
    "graph_builder.add_conditional_edges(\n",
    "    \"chatbot\",\n",
    "    select_next_node,\n",
    "    {\"human\": \"human\", \"tools\": \"tools\", \"PythonExecutor\": \"PythonExecutor\", \"__end__\": \"__end__\"},\n",
    ")\n",
    "\n",
    "graph_builder.add_edge(\"tools\", \"chatbot\")\n",
    "graph_builder.add_edge(\"human\", \"chatbot\")\n",
    "graph_builder.add_edge(\"PythonExecutor\", \"chatbot\")\n",
    "graph_builder.set_entry_point(\"chatbot\")\n",
    "memory = SqliteSaver.from_conn_string(\":memory:\")\n",
    "\n",
    "graph = graph_builder.compile(\n",
    "    checkpointer=MemorySaver(),\n",
    "    interrupt_before=[],\n",
    ")"
   ]
  },
  {
   "cell_type": "code",
   "execution_count": 6,
   "metadata": {},
   "outputs": [
    {
     "data": {
      "image/png": "[encoded data removed]",
      "text/plain": [
       "<IPython.core.display.Image object>"
      ]
     },
     "metadata": {},
     "output_type": "display_data"
    }
   ],
   "source": [
    "from IPython.display import Image, display\n",
    "\n",
    "display(Image(graph.get_graph(xray=True).draw_mermaid_png()))"
   ]
  },
  {
   "cell_type": "code",
   "execution_count": 7,
   "metadata": {},
   "outputs": [],
   "source": [
    "import uuid\n",
    "\n",
    "\n",
    "def predict_react_agent_answer(example: dict):\n",
    "    \"\"\"Use this for answer evaluation\"\"\"\n",
    "\n",
    "    config = {\"configurable\": {\"thread_id\": str(uuid.uuid4())}}\n",
    "    messages = graph.invoke({\"messages\": (\"user\", example[\"input\"])}, config)\n",
    "    return {\"response\": messages[\"messages\"][-1].content, \"messages\": messages}"
   ]
  },
  {
   "cell_type": "code",
   "execution_count": 8,
   "metadata": {},
   "outputs": [
    {
     "data": {
      "text/plain": [
       "{'response': 'Hi Rayen, how can I assist you today?',\n",
       " 'messages': {'messages': [HumanMessage(content='Hi, I am Rayen', additional_kwargs={}, response_metadata={}, id='9f9818e3-44d7-4f68-abf6-759407e088ca'),\n",
       "   AIMessage(content='Hi Rayen, how can I assist you today?', additional_kwargs={}, response_metadata={'token_usage': {'completion_tokens': 12, 'prompt_tokens': 831, 'total_tokens': 843, 'completion_time': 0.048, 'prompt_time': 0.141165391, 'queue_time': 0.003602190000000005, 'total_time': 0.189165391}, 'model_name': 'llama-3.1-70b-versatile', 'system_fingerprint': 'fp_b6828be2c9', 'finish_reason': 'stop', 'logprobs': None}, id='run-7e53c7e4-e817-4134-b678-49b4b3d66302-0', usage_metadata={'input_tokens': 831, 'output_tokens': 12, 'total_tokens': 843})],\n",
       "  'ask_human': False,\n",
       "  'execute_code': False}}"
      ]
     },
     "execution_count": 8,
     "metadata": {},
     "output_type": "execute_result"
    }
   ],
   "source": [
    "example = {\"input\": \"Hi, I am Rayen\"}\n",
    "response = predict_react_agent_answer(example)\n",
    "response"
   ]
  },
  {
   "cell_type": "code",
   "execution_count": 9,
   "metadata": {},
   "outputs": [
    {
     "data": {
      "text/plain": [
       "{'response': '<function=run_python_code>{\"code\": \"df[df[\\'sku\\'] == 1039].shape[0]\", \"df\": \"pd.DataFrame({\\'sku\\': [1039, 2048, 1039, 4096, 1039], \\'quantity\\': [10, 20, 30, 40, 50]})\"}',\n",
       " 'messages': {'messages': [HumanMessage(content='count the quantity for sku 1039', additional_kwargs={}, response_metadata={}, id='92dcc7c8-d0d6-400d-b302-aefb88450e9b'),\n",
       "   AIMessage(content='<function=run_python_code>{\"code\": \"df[df[\\'sku\\'] == 1039].shape[0]\", \"df\": \"pd.DataFrame({\\'sku\\': [1039, 2048, 1039, 4096, 1039], \\'quantity\\': [10, 20, 30, 40, 50]})\"}', additional_kwargs={}, response_metadata={'token_usage': {'completion_tokens': 74, 'prompt_tokens': 833, 'total_tokens': 907, 'completion_time': 0.296, 'prompt_time': 0.14507873, 'queue_time': 0.003971228000000021, 'total_time': 0.44107873}, 'model_name': 'llama-3.1-70b-versatile', 'system_fingerprint': 'fp_9260b4bb2e', 'finish_reason': 'stop', 'logprobs': None}, id='run-a3b65807-1047-464b-9add-26361e264cfd-0', usage_metadata={'input_tokens': 833, 'output_tokens': 74, 'total_tokens': 907})],\n",
       "  'ask_human': False,\n",
       "  'execute_code': False}}"
      ]
     },
     "execution_count": 9,
     "metadata": {},
     "output_type": "execute_result"
    }
   ],
   "source": [
    "example = {\"input\": \"count the quantity for sku 1039\"}\n",
    "response = predict_react_agent_answer(example)\n",
    "response"
   ]
  }
 ],
 "metadata": {
  "kernelspec": {
   "display_name": "agentic-chatbot-c_FjyBAC-py3.11",
   "language": "python",
   "name": "python3"
  },
  "language_info": {
   "codemirror_mode": {
    "name": "ipython",
    "version": 3
   },
   "file_extension": ".py",
   "mimetype": "text/x-python",
   "name": "python",
   "nbconvert_exporter": "python",
   "pygments_lexer": "ipython3",
   "version": "3.11.10"
  }
 },
 "nbformat": 4,
 "nbformat_minor": 2
}
